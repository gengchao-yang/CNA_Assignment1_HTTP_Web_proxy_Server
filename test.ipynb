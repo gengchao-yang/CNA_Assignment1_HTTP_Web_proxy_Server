{
 "cells": [
  {
   "cell_type": "code",
   "execution_count": 30,
   "metadata": {},
   "outputs": [
    {
     "name": "stdout",
     "output_type": "stream",
     "text": [
      "URI:http://www.example.com/path?query=string\n",
      "URI:www.example.com/path?query=string\n",
      "-------\n",
      "resourceParts:['www.example.com', 'path?query=string']\n",
      "hostname: www.example.com\n"
     ]
    }
   ],
   "source": [
    "import re\n",
    "URI = \"http://www.example.com/path?query=string\"\n",
    "print(f\"URI:{URI}\")\n",
    "URI = re.sub('^(/?)http(s?)://', '', URI, count=1)\n",
    "print(f\"URI:{URI}\")\n",
    "\n",
    "print(\"-------\")\n",
    "\n",
    "resourceParts = URI.split('/', 1)\n",
    "# print(type(resourceParts))\n",
    "print(f\"resourceParts:{resourceParts}\")\n",
    "hostname = resourceParts[0]\n",
    "\n",
    "\n",
    "print(f\"hostname: {hostname}\")\n",
    "\n"
   ]
  },
  {
   "cell_type": "code",
   "execution_count": null,
   "metadata": {},
   "outputs": [
    {
     "name": "stdout",
     "output_type": "stream",
     "text": [
      "False\n"
     ]
    }
   ],
   "source": [
    "import os\n",
    " \n",
    "cacheLocation = \"test.py\"\n",
    "fileExists = os.path.isdir(cacheLocation)\n",
    "print(fileExists)"
   ]
  },
  {
   "cell_type": "code",
   "execution_count": null,
   "metadata": {},
   "outputs": [],
   "source": []
  }
 ],
 "metadata": {
  "kernelspec": {
   "display_name": "CNA_assign1",
   "language": "python",
   "name": "python3"
  },
  "language_info": {
   "codemirror_mode": {
    "name": "ipython",
    "version": 3
   },
   "file_extension": ".py",
   "mimetype": "text/x-python",
   "name": "python",
   "nbconvert_exporter": "python",
   "pygments_lexer": "ipython3",
   "version": "3.13.2"
  }
 },
 "nbformat": 4,
 "nbformat_minor": 2
}
